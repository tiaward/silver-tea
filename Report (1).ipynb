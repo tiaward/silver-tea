{
 "cells": [
  {
   "cell_type": "code",
   "execution_count": 1,
   "metadata": {
    "id": "h0LVvvnfJsg5"
   },
   "outputs": [],
   "source": [
    "import pandas as pd"
   ]
  },
  {
   "cell_type": "code",
   "execution_count": 2,
   "metadata": {
    "id": "psQSfEWuTwWP"
   },
   "outputs": [],
   "source": [
    "# Read data stored in 'balance.txt' into a DataFrame.\n",
    "df = pd.read_csv('balance.txt', delim_whitespace=True)"
   ]
  },
  {
   "cell_type": "code",
   "execution_count": 3,
   "metadata": {},
   "outputs": [
    {
     "name": "stdout",
     "output_type": "stream",
     "text": [
      "The average income for the Asian ethnicity is: 44.187833333333344\n",
      "The average income for the African-American ethnicity is: 47.682101010101\n",
      "The average income for the Caucasian ethnicity is: 44.521944723618056\n",
      "This means that African - Americans have the highest income, followed by Caucasians and Asians.\n"
     ]
    }
   ],
   "source": [
    "# Creating functions to calculate averages of ethnicity based on inncome in order to compare\n",
    "\n",
    "print(\"The average income for the Asian ethnicity is:\", df[df.Ethnicity == \"Asian\"].loc[:,\"Income\"].mean())\n",
    "print(\"The average income for the African-American ethnicity is:\", df[df.Ethnicity == \"African American\"].loc[:,\"Income\"].mean())\n",
    "print(\"The average income for the Caucasian ethnicity is:\", df[df.Ethnicity == \"Caucasian\"].loc[:,\"Income\"].mean())\n",
    "print(\"This means that African - Americans have the highest income, followed by Caucasians and Asians.\")"
   ]
  },
  {
   "cell_type": "code",
   "execution_count": 4,
   "metadata": {},
   "outputs": [
    {
     "name": "stdout",
     "output_type": "stream",
     "text": [
      "The average balance for a married person is: 13.388473477498923\n",
      "The average balance for an unmarried person is: 13.493509015134242\n",
      "This means that unmarried people have higher balances on average\n"
     ]
    }
   ],
   "source": [
    "# Calculating average balances of single and married people seperatley\n",
    "print (\"The average balance for a married person is:\", df[df.Married ==\"Yes\"].loc[:,\"Balance\"].mean())\n",
    "print (\"The average balance for an unmarried person is:\", df[df.Married == \"No\"].loc[:, \"Balance\"].mean())\n",
    "print (\"This means that unmarried people have higher balances on average\")"
   ]
  },
  {
   "cell_type": "markdown",
   "metadata": {
    "id": "_LXpBJXZLYoh"
   },
   "source": [
    "Write the code needed to produce a report that provides the following information:\n",
    "* Compare the average income based on ethnicity. \n",
    "* On average, do married or single people have a higher balance?\n",
    "* What is the highest income in our dataset?\n",
    "* What is the lowest income in our dataset?\n",
    "* How many cards do we have recorded in our dataset? (Hint: use `sum()`)\n",
    "* How many females do we have information for vs how many males? (Hint: use `count()`For a list of all methods for computation of descriptive stats, explore the [pandas documentation](https://pandas.pydata.org/pandas-docs/stable/reference/frame.html#computations-descriptive-stats)). \n",
    "\n",
    "\n"
   ]
  },
  {
   "cell_type": "code",
   "execution_count": 5,
   "metadata": {},
   "outputs": [
    {
     "name": "stdout",
     "output_type": "stream",
     "text": [
      "The highest income in the dataset is:  186.634\n",
      "The lowest income in the dataset is:  10.354\n"
     ]
    }
   ],
   "source": [
    "# Using the 'max' and 'min' feature to find the highest and lowest values \n",
    "print(\"The highest income in the dataset is: \", df[\"Income\"].max())\n",
    "print(\"The lowest income in the dataset is: \" , df[\"Income\"].min())"
   ]
  },
  {
   "cell_type": "code",
   "execution_count": 6,
   "metadata": {},
   "outputs": [
    {
     "name": "stdout",
     "output_type": "stream",
     "text": [
      "The number of cards we have in the dataset is:  1183\n"
     ]
    }
   ],
   "source": [
    "# Using the 'sum' feature to find the sum of all cards\n",
    "print(\"The number of cards we have in the dataset is: \",df[\"Cards\"].sum())"
   ]
  },
  {
   "cell_type": "code",
   "execution_count": 7,
   "metadata": {},
   "outputs": [
    {
     "name": "stdout",
     "output_type": "stream",
     "text": [
      "The number of females is:  207\n",
      "The number of males is:  193\n"
     ]
    }
   ],
   "source": [
    "# Using a function to count the number of female and male entries\n",
    "print(\"The number of females is: \",df[df[\"Gender\"] == \"Female\"][\"Gender\"].count())\n",
    "print(\"The number of males is: \", df[df[\"Gender\"] == \"Male\"][\"Gender\"].count())"
   ]
  }
 ],
 "metadata": {
  "colab": {
   "authorship_tag": "ABX9TyP5J3xG1JXUCQAkP9OLQqdU",
   "provenance": []
  },
  "kernelspec": {
   "display_name": "anaconda-2022.05-py39",
   "language": "python",
   "name": "conda-env-anaconda-2022.05-py39-py"
  },
  "language_info": {
   "codemirror_mode": {
    "name": "ipython",
    "version": 3
   },
   "file_extension": ".py",
   "mimetype": "text/x-python",
   "name": "python",
   "nbconvert_exporter": "python",
   "pygments_lexer": "ipython3",
   "version": "3.9.12"
  }
 },
 "nbformat": 4,
 "nbformat_minor": 4
}
